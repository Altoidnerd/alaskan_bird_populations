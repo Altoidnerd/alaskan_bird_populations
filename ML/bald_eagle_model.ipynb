{
 "cells": [
  {
   "cell_type": "code",
   "execution_count": 6,
   "metadata": {},
   "outputs": [
    {
     "name": "stderr",
     "output_type": "stream",
     "text": [
      "/anaconda3/lib/python3.6/site-packages/ipykernel_launcher.py:5: FutureWarning: from_csv is deprecated. Please use read_csv(...) instead. Note that some of the default arguments are different, so please refer to the documentation for from_csv when changing your function calls\n",
      "  \"\"\"\n",
      "/anaconda3/lib/python3.6/site-packages/ipykernel_launcher.py:6: FutureWarning: from_csv is deprecated. Please use read_csv(...) instead. Note that some of the default arguments are different, so please refer to the documentation for from_csv when changing your function calls\n",
      "  \n",
      "/anaconda3/lib/python3.6/site-packages/ipykernel_launcher.py:7: FutureWarning: from_csv is deprecated. Please use read_csv(...) instead. Note that some of the default arguments are different, so please refer to the documentation for from_csv when changing your function calls\n",
      "  import sys\n",
      "/anaconda3/lib/python3.6/site-packages/ipykernel_launcher.py:8: FutureWarning: from_csv is deprecated. Please use read_csv(...) instead. Note that some of the default arguments are different, so please refer to the documentation for from_csv when changing your function calls\n",
      "  \n",
      "/anaconda3/lib/python3.6/site-packages/ipykernel_launcher.py:9: FutureWarning: from_csv is deprecated. Please use read_csv(...) instead. Note that some of the default arguments are different, so please refer to the documentation for from_csv when changing your function calls\n",
      "  if __name__ == '__main__':\n",
      "/anaconda3/lib/python3.6/site-packages/ipykernel_launcher.py:10: FutureWarning: from_csv is deprecated. Please use read_csv(...) instead. Note that some of the default arguments are different, so please refer to the documentation for from_csv when changing your function calls\n",
      "  # Remove the CWD from sys.path while we load stuff.\n",
      "/anaconda3/lib/python3.6/site-packages/ipykernel_launcher.py:11: FutureWarning: from_csv is deprecated. Please use read_csv(...) instead. Note that some of the default arguments are different, so please refer to the documentation for from_csv when changing your function calls\n",
      "  # This is added back by InteractiveShellApp.init_path()\n",
      "/anaconda3/lib/python3.6/site-packages/ipykernel_launcher.py:12: FutureWarning: from_csv is deprecated. Please use read_csv(...) instead. Note that some of the default arguments are different, so please refer to the documentation for from_csv when changing your function calls\n",
      "  if sys.path[0] == '':\n"
     ]
    }
   ],
   "source": [
    "import pandas as pd\n",
    "import numpy as np\n",
    "import matplotlib.pyplot as plt\n",
    "\n",
    "dfeffort = pd.DataFrame.from_csv('effort.csv')\n",
    "dfweather = pd.DataFrame.from_csv('weather.csv')\n",
    "dfdrought = pd.DataFrame.from_csv('drought.csv')\n",
    "dfheavyPrecip = pd.DataFrame.from_csv('heavy-precip.csv')\n",
    "dfprecip = pd.DataFrame.from_csv('precipitation.csv')\n",
    "dftemperature = pd.DataFrame.from_csv('temperature.csv')\n",
    "dfbald_eagle = pd.DataFrame.from_csv('bald_eagle_counts.csv')\n",
    "dfchickadee = pd.DataFrame.from_csv('chickadee_counts.csv')"
   ]
  },
  {
   "cell_type": "code",
   "execution_count": 10,
   "metadata": {},
   "outputs": [
    {
     "name": "stdout",
     "output_type": "stream",
     "text": [
      "35 35 [0.007  0.0074 0.0317 0.0147 0.0076 0.0342 0.0394 0.0224 0.0156 0.0282\n",
      " 0.0197 0.0286 0.0272 0.0403 0.0407 0.0359 0.0479 0.0464 0.041  0.0459\n",
      " 0.0468 0.0387 0.0533 0.0719 0.0699 0.1466 0.143  0.0969 0.1238 0.1489\n",
      " 0.1961 0.1265 0.0824 0.0981 0.0747] {1981: 0.007, 1982: 0.0074, 1983: 0.0317, 1984: 0.0147, 1985: 0.0076, 1986: 0.0342, 1987: 0.0394, 1988: 0.0224, 1989: 0.0156, 1990: 0.0282, 1991: 0.0197, 1992: 0.0286, 1993: 0.0272, 1994: 0.0403, 1995: 0.0407, 1996: 0.0359, 1997: 0.0479, 1998: 0.0464, 1999: 0.041, 2000: 0.0459, 2001: 0.0468, 2002: 0.0387, 2003: 0.0533, 2004: 0.0719, 2005: 0.0699, 2006: 0.1466, 2007: 0.143, 2008: 0.0969, 2009: 0.1238, 2010: 0.1489, 2011: 0.1961, 2012: 0.1265, 2013: 0.0824, 2014: 0.0981, 2015: 0.0747}\n"
     ]
    }
   ],
   "source": [
    "dfbald_eagle = dfbald_eagle[dfbald_eagle.year > 1980]\n",
    "dfbald_eagle = dfbald_eagle[dfbald_eagle.year < 2016]\n",
    "Y_bald_eagle = np.array(dfbald_eagle.density.tolist())\n",
    "Y_bald_eagle_dict = dict()\n",
    "for i in range(len(dfbald_eagle)):\n",
    "    Y_bald_eagle_dict[dfbald_eagle.iloc[i].year] = dfbald_eagle.iloc[i].density\n",
    "\n",
    "print(len(Y_bald_eagle), len(Y_bald_eagle_dict),Y_bald_eagle, Y_bald_eagle_dict)"
   ]
  },
  {
   "cell_type": "code",
   "execution_count": 5,
   "metadata": {},
   "outputs": [],
   "source": [
    "def build_features(year_):\n",
    "    X = []\n",
    "    \n",
    "    def lmap(func, alist):\n",
    "        return list(map(func, alist))\n",
    "        \n",
    "    temp_row = dftemperature[dftemperature.year == year_]\n",
    "    X = X + lmap(float, [temp_row.earth_surface])#,temp_row.lower_troposphere_uah, temp_row.lower_troposphere_rss]\n",
    "    drought_row = dfdrought[dfdrought.year == year_]\n",
    "    X = X + lmap(float, [drought_row.annual_avg, drought_row.nine_yr_avg])\n",
    "    hprecip_row = dfheavyPrecip[dfheavyPrecip.year == year_]\n",
    "    X = X + lmap(float, [hprecip_row.index_value, hprecip_row.nine_yr_avg])\n",
    "    precip_row = dfprecip[dfprecip.year == year_]\n",
    "    X = X + lmap(float, [precip_row.anomoly_inches])\n",
    "    return np.array(X)\n",
    "    "
   ]
  },
  {
   "cell_type": "code",
   "execution_count": 14,
   "metadata": {},
   "outputs": [
    {
     "name": "stdout",
     "output_type": "stream",
     "text": [
      "35 {1981: array([ 1.1       , -0.755     ,  1.38746094,  0.131     ,  0.11710938,\n",
      "        0.02      ]), 1982: array([-0.67      ,  3.3725    ,  2.35296875,  0.127     ,  0.11525391,\n",
      "        3.92      ]), 1983: array([-0.14      ,  5.01083333,  3.05469401,  0.102     ,  0.10810547,\n",
      "        4.82      ]), 1984: array([-0.04      ,  3.9475    ,  2.9314974 ,  0.085     ,  0.10331641,\n",
      "        1.46      ]), 1985: array([-0.72      ,  0.96083333,  2.06860026,  0.098     ,  0.10350781,\n",
      "        0.03      ]), 1986: array([1.3       , 2.13583333, 0.86063151, 0.133     , 0.10416406,\n",
      "       1.44      ]), 1987: array([ 1.31      , -0.57      , -0.2961263 ,  0.095     ,  0.10209375,\n",
      "       -0.93      ]), 1988: array([ 0.61      , -3.51      , -0.94773763,  0.085     ,  0.10138672,\n",
      "       -4.04      ]), 1989: array([-0.18      , -0.85166667, -0.80581706,  0.087     ,  0.10569531,\n",
      "       -0.89      ]), 1990: array([ 1.49      ,  0.03083333, -0.04497721,  0.149     ,  0.11006641,\n",
      "        2.23      ]), 1991: array([1.14      , 1.15083333, 0.93129232, 0.124     , 0.10885937,\n",
      "       2.5       ]), 1992: array([0.58      , 1.185     , 1.82689779, 0.056     , 0.10701563,\n",
      "       1.32      ]), 1993: array([-0.76      ,  4.37      ,  2.45514648,  0.122     ,  0.11437109,\n",
      "        2.68      ]), 1994: array([0.85      , 2.13833333, 2.76329753, 0.114     , 0.13191797,\n",
      "       0.68      ]), 1995: array([0.63      , 2.79583333, 2.87972982, 0.169     , 0.15041797,\n",
      "       2.75      ]), 1996: array([-0.13      ,  2.78916667,  2.8372819 ,  0.203     ,  0.16114844,\n",
      "        3.76      ]), 1997: array([0.18      , 4.29583333, 2.34928711, 0.112     , 0.16267187,\n",
      "       1.92      ]), 1998: array([2.21      , 1.55333333, 1.15205729, 0.206     , 0.15637109,\n",
      "       3.95      ]), 1999: array([ 1.86      , -0.13833333, -0.47647461,  0.153     ,  0.14327734,\n",
      "       -1.47      ]), 2000: array([ 1.25      , -4.43583333, -1.7579362 ,  0.092     ,  0.12842969,\n",
      "       -1.72      ]), 2001: array([ 1.68      , -2.87083333, -2.05039062,  0.114     ,  0.11926563,\n",
      "       -0.92      ]), 2002: array([ 1.19      , -2.05833333, -1.40950195,  0.133     ,  0.11882813,\n",
      "       -0.89      ]), 2003: array([ 1.24      ,  0.58333333, -0.52384115,  0.096     ,  0.12702344,\n",
      "        0.57      ]), 2004: array([ 1.08      ,  1.3075    , -0.1201595 ,  0.127     ,  0.14283203,\n",
      "        3.31      ]), 2005: array([ 1.62      ,  0.08916667, -0.35098307,  0.204     ,  0.16108984,\n",
      "        0.14      ]), 2006: array([ 2.23      , -2.21583333, -0.70557292,  0.156     ,  0.17410938,\n",
      "       -0.12      ]), 2007: array([ 1.63      , -1.65166667, -0.57611003,  0.197     ,  0.17779687,\n",
      "       -0.76      ]), 2008: array([0.27      , 0.34666667, 0.08567057, 0.203     , 0.1738125 ,\n",
      "       1.3       ]), 2009: array([0.37      , 1.25083333, 0.69221354, 0.105     , 0.16696094,\n",
      "       2.36      ]), 2010: array([0.96      , 3.05      , 0.6104655 , 0.215     , 0.16012891,\n",
      "       1.43      ]), 2011: array([ 1.16      , -0.1575    , -0.09243164,  0.138     ,  0.15355859,\n",
      "        0.16      ]), 2012: array([ 3.26      , -4.00583333, -0.62903971,  0.123     ,  0.14987109,\n",
      "       -2.41      ]), 2013: array([ 0.41      , -0.22416667, -0.41643229,  0.168     ,  0.15407422,\n",
      "        1.12      ]), 2014: array([0.52      , 1.23166667, 0.28073242, 0.131     , 0.16746484,\n",
      "       0.91      ]), 2015: array([2.38      , 1.1675    , 0.86248047, 0.21      , 0.185125  ,\n",
      "       4.63      ])}\n",
      "35 35\n"
     ]
    }
   ],
   "source": [
    "X_dict = dict()\n",
    "\n",
    "for i in range(1981,2016):\n",
    "    X_dict[i] = build_features(i)\n",
    "    \n",
    "print(len(X_dict), X_dict)\n",
    "\n",
    "X = []\n",
    "for yr in X_dict.keys():\n",
    "    X.append(X_dict[yr])\n",
    "print(len(X), len(Y_bald_eagle))"
   ]
  },
  {
   "cell_type": "markdown",
   "metadata": {},
   "source": [
    "# Linear Regression "
   ]
  },
  {
   "cell_type": "code",
   "execution_count": 34,
   "metadata": {},
   "outputs": [
    {
     "data": {
      "text/plain": [
       "<matplotlib.collections.PathCollection at 0x1105d8198>"
      ]
     },
     "execution_count": 34,
     "metadata": {},
     "output_type": "execute_result"
    },
    {
     "data": {
      "image/png": "[encoded data removed]",
      "text/plain": [
       "<matplotlib.figure.Figure at 0x1106dcc50>"
      ]
     },
     "metadata": {},
     "output_type": "display_data"
    }
   ],
   "source": [
    "import sklearn\n",
    "model = sklearn.linear_model.LinearRegression()\n",
    "model.fit(X, Y_bald_eagle)\n",
    "y_pred = model.predict(X)\n",
    "plt.scatter(y_pred,Y_bald_eagle)"
   ]
  },
  {
   "cell_type": "markdown",
   "metadata": {},
   "source": [
    "# Observations\n",
    "\n",
    "* The large oscillations in the predicted - true plot above are due to large oscillations in the actual measured bald_eagle density, and this being a linear model'\n",
    "\n",
    "# A polynomial fit might be more appropriate.\n",
    "\n",
    "It looks like a polynomial fit would be useful, since there is very nonlinear behavior in the bald_eagle polulation merely as a function of year, as shown below."
   ]
  },
  {
   "cell_type": "code",
   "execution_count": 21,
   "metadata": {},
   "outputs": [
    {
     "data": {
      "text/plain": [
       "[<matplotlib.lines.Line2D at 0x10c980b00>]"
      ]
     },
     "execution_count": 21,
     "metadata": {},
     "output_type": "execute_result"
    },
    {
     "data": {
      "image/png": "[encoded data removed]",
      "text/plain": [
       "<matplotlib.figure.Figure at 0x10c978080>"
      ]
     },
     "metadata": {},
     "output_type": "display_data"
    }
   ],
   "source": [
    "plt.plot(dfbald_eagle.density)"
   ]
  },
  {
   "cell_type": "markdown",
   "metadata": {},
   "source": [
    "## Absolute error of Linear Model\n",
    "\n",
    "Mean error in the bird density is 0.198.  Typical values for the bald bird density observed were on the order of 0.1 so about 10%."
   ]
  },
  {
   "cell_type": "code",
   "execution_count": 17,
   "metadata": {},
   "outputs": [
    {
     "data": {
      "text/plain": [
       "0.019762270870331923"
      ]
     },
     "execution_count": 17,
     "metadata": {},
     "output_type": "execute_result"
    }
   ],
   "source": [
    "residuals = y_pred - Y_bald_eagle\n",
    "residuals = list(map(abs, residuals))\n",
    "error = np.mean(residuals)\n",
    "error"
   ]
  },
  {
   "cell_type": "markdown",
   "metadata": {},
   "source": [
    "## Coefficients analysis\n",
    "\n",
    "Without scaling the data, the relative size of the coefficients just doesnt tell use much.  Lasso regression can pick out the important features."
   ]
  },
  {
   "cell_type": "code",
   "execution_count": 35,
   "metadata": {},
   "outputs": [
    {
     "data": {
      "text/plain": [
       "array([ 0.00660433,  0.00723597, -0.01125514, -0.21508258,  1.46431567,\n",
       "       -0.00538124])"
      ]
     },
     "execution_count": 35,
     "metadata": {},
     "output_type": "execute_result"
    }
   ],
   "source": [
    "linear_coefs = model.coef_\n",
    "linear_coefs"
   ]
  },
  {
   "cell_type": "markdown",
   "metadata": {},
   "source": [
    "# Ridge Regression\n",
    "\n",
    "Defaults for lasso sent all the coefficients to zero, so let's try ridge regression."
   ]
  },
  {
   "cell_type": "code",
   "execution_count": 27,
   "metadata": {},
   "outputs": [
    {
     "data": {
      "text/plain": [
       "<matplotlib.collections.PathCollection at 0x1106cff98>"
      ]
     },
     "execution_count": 27,
     "metadata": {},
     "output_type": "execute_result"
    },
    {
     "data": {
      "image/png": "[encoded data removed]",
      "text/plain": [
       "<matplotlib.figure.Figure at 0x10c8b2780>"
      ]
     },
     "metadata": {},
     "output_type": "display_data"
    }
   ],
   "source": [
    "model = sklearn.linear_model.Ridge()\n",
    "model.fit(X, Y_bald_eagle)\n",
    "y_pred = model.predict(X)\n",
    "plt.scatter(y_pred,Y_bald_eagle)"
   ]
  },
  {
   "cell_type": "code",
   "execution_count": 33,
   "metadata": {},
   "outputs": [
    {
     "data": {
      "text/plain": [
       "array([ 0.01755192,  0.00735184, -0.01461825,  0.01672408,  0.0234623 ,\n",
       "       -0.00053844])"
      ]
     },
     "execution_count": 33,
     "metadata": {},
     "output_type": "execute_result"
    }
   ],
   "source": [
    "ridge_coefs = model.coef_\n",
    "ridge_coefs"
   ]
  },
  {
   "cell_type": "code",
   "execution_count": 30,
   "metadata": {},
   "outputs": [
    {
     "data": {
      "text/plain": [
       "Ridge(alpha=1.0, copy_X=True, fit_intercept=True, max_iter=None,\n",
       "   normalize=False, random_state=None, solver='auto', tol=0.001)"
      ]
     },
     "execution_count": 30,
     "metadata": {},
     "output_type": "execute_result"
    }
   ],
   "source": [
    "model"
   ]
  },
  {
   "cell_type": "markdown",
   "metadata": {},
   "source": [
    "## Absolute error\n",
    "\n",
    "Here with ridge regression, with defaults, the absolute error is double that of linear regression. "
   ]
  },
  {
   "cell_type": "code",
   "execution_count": 29,
   "metadata": {},
   "outputs": [
    {
     "data": {
      "text/plain": [
       "0.031255995209984705"
      ]
     },
     "execution_count": 29,
     "metadata": {},
     "output_type": "execute_result"
    }
   ],
   "source": [
    "residuals = y_pred - Y_bald_eagle\n",
    "residuals = list(map(abs, residuals))\n",
    "error = np.mean(residuals)\n",
    "error"
   ]
  },
  {
   "cell_type": "markdown",
   "metadata": {},
   "source": [
    "## Differences in the coefficients\n",
    "\n",
    "Ridge regression really penalized heavy_preciptation_nine_year_avg."
   ]
  },
  {
   "cell_type": "code",
   "execution_count": 36,
   "metadata": {},
   "outputs": [
    {
     "data": {
      "text/plain": [
       "array([-1.09475843e-02, -1.15864218e-04,  3.36310464e-03, -2.31806659e-01,\n",
       "        1.44085337e+00, -4.84279492e-03])"
      ]
     },
     "execution_count": 36,
     "metadata": {},
     "output_type": "execute_result"
    }
   ],
   "source": [
    "diffs = linear_coefs - ridge_coefs\n",
    "diffs"
   ]
  },
  {
   "cell_type": "code",
   "execution_count": null,
   "metadata": {},
   "outputs": [],
   "source": []
  }
 ],
 "metadata": {
  "kernelspec": {
   "display_name": "Python 3",
   "language": "python",
   "name": "python3"
  },
  "language_info": {
   "codemirror_mode": {
    "name": "ipython",
    "version": 3
   },
   "file_extension": ".py",
   "mimetype": "text/x-python",
   "name": "python",
   "nbconvert_exporter": "python",
   "pygments_lexer": "ipython3",
   "version": "3.6.4"
  }
 },
 "nbformat": 4,
 "nbformat_minor": 2
}
