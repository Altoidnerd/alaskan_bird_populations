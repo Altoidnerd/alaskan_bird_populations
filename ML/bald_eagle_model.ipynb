{
 "cells": [
  {
   "cell_type": "code",
   "execution_count": 1,
   "metadata": {},
   "outputs": [
    {
     "name": "stderr",
     "output_type": "stream",
     "text": [
      "/anaconda3/lib/python3.6/site-packages/ipykernel_launcher.py:5: FutureWarning: from_csv is deprecated. Please use read_csv(...) instead. Note that some of the default arguments are different, so please refer to the documentation for from_csv when changing your function calls\n",
      "  \"\"\"\n",
      "/anaconda3/lib/python3.6/site-packages/ipykernel_launcher.py:6: FutureWarning: from_csv is deprecated. Please use read_csv(...) instead. Note that some of the default arguments are different, so please refer to the documentation for from_csv when changing your function calls\n",
      "  \n",
      "/anaconda3/lib/python3.6/site-packages/ipykernel_launcher.py:7: FutureWarning: from_csv is deprecated. Please use read_csv(...) instead. Note that some of the default arguments are different, so please refer to the documentation for from_csv when changing your function calls\n",
      "  import sys\n",
      "/anaconda3/lib/python3.6/site-packages/ipykernel_launcher.py:8: FutureWarning: from_csv is deprecated. Please use read_csv(...) instead. Note that some of the default arguments are different, so please refer to the documentation for from_csv when changing your function calls\n",
      "  \n",
      "/anaconda3/lib/python3.6/site-packages/ipykernel_launcher.py:9: FutureWarning: from_csv is deprecated. Please use read_csv(...) instead. Note that some of the default arguments are different, so please refer to the documentation for from_csv when changing your function calls\n",
      "  if __name__ == '__main__':\n",
      "/anaconda3/lib/python3.6/site-packages/ipykernel_launcher.py:10: FutureWarning: from_csv is deprecated. Please use read_csv(...) instead. Note that some of the default arguments are different, so please refer to the documentation for from_csv when changing your function calls\n",
      "  # Remove the CWD from sys.path while we load stuff.\n",
      "/anaconda3/lib/python3.6/site-packages/ipykernel_launcher.py:11: FutureWarning: from_csv is deprecated. Please use read_csv(...) instead. Note that some of the default arguments are different, so please refer to the documentation for from_csv when changing your function calls\n",
      "  # This is added back by InteractiveShellApp.init_path()\n",
      "/anaconda3/lib/python3.6/site-packages/ipykernel_launcher.py:12: FutureWarning: from_csv is deprecated. Please use read_csv(...) instead. Note that some of the default arguments are different, so please refer to the documentation for from_csv when changing your function calls\n",
      "  if sys.path[0] == '':\n"
     ]
    }
   ],
   "source": [
    "import pandas as pd\n",
    "import numpy as np\n",
    "import matplotlib.pyplot as plt\n",
    "\n",
    "dfeffort = pd.DataFrame.from_csv('effort.csv')\n",
    "dfweather = pd.DataFrame.from_csv('weather.csv')\n",
    "dfdrought = pd.DataFrame.from_csv('drought.csv')\n",
    "dfheavyPrecip = pd.DataFrame.from_csv('heavy-precip.csv')\n",
    "dfprecip = pd.DataFrame.from_csv('precipitation.csv')\n",
    "dftemperature = pd.DataFrame.from_csv('temperature.csv')\n",
    "dfbald_eagle = pd.DataFrame.from_csv('bald_eagle_counts.csv')\n",
    "dfchickadee = pd.DataFrame.from_csv('chickadee_counts.csv')"
   ]
  },
  {
   "cell_type": "code",
   "execution_count": 2,
   "metadata": {},
   "outputs": [],
   "source": [
    "dfbald_eagle = dfbald_eagle[dfbald_eagle.year > 1980]\n",
    "Y_bald_eagle = np.array(dfbald_eagle.density.tolist())\n",
    "Y_bald_eagle_dict = dict()\n",
    "for i in range(len(dfbald_eagle)):\n",
    "    Y_bald_eagle_dict[dfbald_eagle.iloc[i].year] = dfbald_eagle.iloc[i].density\n",
    "\n"
   ]
  },
  {
   "cell_type": "code",
   "execution_count": 3,
   "metadata": {},
   "outputs": [
    {
     "data": {
      "text/plain": [
       "{1981: 0.007,\n",
       " 1982: 0.0074,\n",
       " 1983: 0.0317,\n",
       " 1984: 0.0147,\n",
       " 1985: 0.0076,\n",
       " 1986: 0.0342,\n",
       " 1987: 0.0394,\n",
       " 1988: 0.0224,\n",
       " 1989: 0.0156,\n",
       " 1990: 0.0282,\n",
       " 1991: 0.0197,\n",
       " 1992: 0.0286,\n",
       " 1993: 0.0272,\n",
       " 1994: 0.0403,\n",
       " 1995: 0.0407,\n",
       " 1996: 0.0359,\n",
       " 1997: 0.0479,\n",
       " 1998: 0.0464,\n",
       " 1999: 0.041,\n",
       " 2000: 0.0459,\n",
       " 2001: 0.0468,\n",
       " 2002: 0.0387,\n",
       " 2003: 0.0533,\n",
       " 2004: 0.0719,\n",
       " 2005: 0.0699,\n",
       " 2006: 0.1466,\n",
       " 2007: 0.143,\n",
       " 2008: 0.0969,\n",
       " 2009: 0.1238,\n",
       " 2010: 0.1489,\n",
       " 2011: 0.1961,\n",
       " 2012: 0.1265,\n",
       " 2013: 0.0824,\n",
       " 2014: 0.0981,\n",
       " 2015: 0.0747,\n",
       " 2016: 0.1378,\n",
       " 2017: 0.0632}"
      ]
     },
     "execution_count": 3,
     "metadata": {},
     "output_type": "execute_result"
    }
   ],
   "source": [
    "Y_bald_eagle\n",
    "Y_bald_eagle_dict"
   ]
  },
  {
   "cell_type": "code",
   "execution_count": null,
   "metadata": {},
   "outputs": [],
   "source": []
  }
 ],
 "metadata": {
  "kernelspec": {
   "display_name": "Python 3",
   "language": "python",
   "name": "python3"
  },
  "language_info": {
   "codemirror_mode": {
    "name": "ipython",
    "version": 3
   },
   "file_extension": ".py",
   "mimetype": "text/x-python",
   "name": "python",
   "nbconvert_exporter": "python",
   "pygments_lexer": "ipython3",
   "version": "3.6.4"
  }
 },
 "nbformat": 4,
 "nbformat_minor": 2
}
