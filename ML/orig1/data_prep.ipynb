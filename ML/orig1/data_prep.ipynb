{
 "cells": [
  {
   "cell_type": "markdown",
   "metadata": {},
   "source": [
    "# Prepare datasets\n",
    "\n",
    "The file HistoricalResultsByCount\\ \\[AKAN-1901-2018\\].csv contains several tables, which I prefer to split up into individual csv's."
   ]
  },
  {
   "cell_type": "markdown",
   "metadata": {},
   "source": [
    "## Get latlong.csv\n",
    "\n",
    "The first table given is the latitude and longitude of AKAN.  \n"
   ]
  },
  {
   "cell_type": "raw",
   "metadata": {},
   "source": [
    "> mkdir HistoricalResultsByCount\n",
    "> cat ./HistoricalResultsByCount\\ \\[AKAN-1901-2018\\].csv | head -n2\n",
    "    CircleName,Abbrev,LatLong\n",
    "    Anchorage,AKAN,61.1446860000/-149.8639740000\n",
    ">\n",
    ">  # write this to a file\n",
    "> cat ./HistoricalResultsByCount\\ \\[AKAN-1901-2018\\].csv | head -n2 > HistoricalResultsByCount/latlong.csv"
   ]
  },
  {
   "cell_type": "markdown",
   "metadata": {},
   "source": [
    "## Do the same for remaining 4 tables\n",
    "\n",
    "They are data for Weather, Effort, Sponsoring Organization, and \"Checklist\", which is the bird species reported.\n"
   ]
  },
  {
   "cell_type": "markdown",
   "metadata": {},
   "source": [
    "## Weather table\n",
    "\n",
    "It is 50 rows.\n",
    "\n"
   ]
  },
  {
   "cell_type": "raw",
   "metadata": {},
   "source": [
    "> cat HistoricalResultsByCount\\ \\[AKAN-1901-2018\\].csv |head -n53|tail -n50\n",
    "    CountYear3,LowTemp,HighTemp,AMCloud,PMClouds,AMRain,PMRain,AMSnow,PMSnow\n",
    "    118,27.0 Fahrenheit,34.0 Fahrenheit,Cloudy,Cloudy,None,None,None,None\n",
    "    117,25.0 Fahrenheit,36.0 Fahrenheit,Cloudy,Cloudy,Light,None,Light,None\n",
    "    116,22.0 Fahrenheit,28.0 Fahrenheit,Partly Cloudy,Partly Cloudy,None,None,None,None\n",
    "    115,23.0 Fahrenheit,34.0 Fahrenheit,Cloudy,Cloudy,Light,None,Light,None\n",
    "    ...\n",
    ">\n",
    "> # write it to file\n",
    ">\n",
    "> cat HistoricalResultsByCount\\ \\[AKAN-1901-2018\\].csv |head -n53|tail -n50 > HistoricalResultsByCount/weather.csv"
   ]
  },
  {
   "cell_type": "markdown",
   "metadata": {},
   "source": [
    "## Effort table\n",
    "\n",
    "The effort table has incorrect column names in the csv; they should be ``\"CountYear5,CountDate,NumParticipants,NumHours,NumSpeciesReported\"``"
   ]
  },
  {
   "cell_type": "raw",
   "metadata": {},
   "source": [
    "> cat HistoricalResultsByCount\\ \\[AKAN-1901-2018\\].csv |head -n112|tail -n59\n",
    "CountYear5,LowTemp3,HighTemp2,AMCloud2,PMClouds2\n",
    "    118,12/16/2017,118,253.00,47\n",
    "    117,12/17/2016,110,210.50,37\n",
    "    116,12/19/2015,110,214.22,43\n",
    "    115,12/14/2014,49,214.00,43\n",
    "    114,12/14/2013,82,169.80,30\n",
    "    ....\n",
    ">\n",
    ">\n",
    "> # create file with proper column names\n",
    "> echo \"CountYear5,CountDate,NumParticipants,NumHours,NumSpeciesReported\" >>   HistoricalResultsByCount/effort.csv\n",
    ">\n",
    "> # append data to file\n",
    "> cat HistoricalResultsByCount\\ \\[AKAN-1901-2018\\].csv |head -n112|tail -n58 >> HistoricalResultsByCount/effort.csv\n",
    ">\n",
    "> # check the file\n",
    "> wc -l  HistoricalResultsByCount/effort.csv\n",
    "    59 HistoricalResultsByCount/effort.csv\n",
    "> head -n4 HistoricalResultsByCount/effort.csv\n",
    "    CountYear5,CountDate,NumParticipants,NumHours,NumSpeciesReported\n",
    "    118,12/16/2017,118,253.00,47\n",
    "    117,12/17/2016,110,210.50,37\n",
    "    116,12/19/2015,110,214.22,43\n",
    ">\n",
    "> # looks good\n",
    "\n"
   ]
  },
  {
   "cell_type": "markdown",
   "metadata": {},
   "source": [
    "## Sponsoring organization\n",
    "\n",
    "Again, the columns are named incorrectly; they should be \"CountYear, SponsoringOrganization\".\n",
    "\n"
   ]
  },
  {
   "cell_type": "raw",
   "metadata": {},
   "source": [
    "> cat HistoricalResultsByCount\\ \\[AKAN-1901-2018\\].csv |head -n171 | tail -n59\n",
    "    CountYear4,LowTemp2\n",
    "    118,Anchorage Audubon Society\n",
    "    117,Anchorage Audubon Society\n",
    "    116,Anchorage Audubon Society\n",
    "    ...\n",
    "    \n",
    "> echo \"CountYear, SponsoringOrganization\" > HistoricalResultsByCount/sponsors.csv\n",
    "> cat HistoricalResultsByCount\\ \\[AKAN-1901-2018\\].csv |head -n171 | tail -n58 >> HistoricalResultsByCount/sponsors.csv && head -n34 HistoricalResultsByCount/sponsors.csv\n",
    "    CountYear, SponsoringOrganization\n",
    "    118,Anchorage Audubon Society\n",
    "    117,Anchorage Audubon Society\n",
    "    116,Anchorage Audubon Society\n",
    "    115,Anchorage Audubon Society\n",
    "    114,Anchorage Audubon Society\n",
    ">\n",
    "> # nice"
   ]
  },
  {
   "cell_type": "markdown",
   "metadata": {},
   "source": [
    "# Checklist\n",
    "\n",
    "* While competing bird species count is probably relevant, we should first isolate data for Black-Capped Chickadee and Bald Eagle alone.  \n",
    "\n",
    "* The format of this part of the csv is strange; it is better elucidated by looking at the .xlsx output of the CBC's documentation: http://docs.audubon.org/sites/default/files/documents/cbc_historical_results_download_file_format.pdf\n",
    "\n",
    "* This process can then be reused later to isolate any species data"
   ]
  },
  {
   "cell_type": "markdown",
   "metadata": {},
   "source": [
    "### Get chickadee data only\n",
    "\n",
    "The contents does not look ready for import into pandas.  Furthermore, it is unclear what is meant by these numbers."
   ]
  },
  {
   "cell_type": "raw",
   "metadata": {},
   "source": [
    "> cat HistoricalResultsByCount\\ \\[AKAN-1901-2018\\].csv | grep \"ickadee\" -C10 | grep \"lack\" -A5 | tail -n13\n",
    "    \"Black-capped Chickadee\n",
    "    [Poecile atricapillus]\",\"2016 [117]\n",
    "    Count Date: 12/17/2016\n",
    "    # Participants: 177\n",
    "    # Species Reported: 37\n",
    "    Total Hrs.: 210.50\",2305,10.9501,\"HC,\"\n",
    "    --\n",
    "    \"Black-capped Chickadee\n",
    "    [Poecile atricapillus]\",\"2017 [118]\n",
    "    Count Date: 12/16/2017\n",
    "    # Participants: 171\n",
    "    # Species Reported: 47\n",
    "    Total Hrs.: 253.00\",1908,7.5415,"
   ]
  },
  {
   "cell_type": "markdown",
   "metadata": {},
   "source": [
    "# CBC Historical Results Download File Format\n",
    "\n",
    "From http://docs.audubon.org/sites/default/files/documents/cbc_historical_results_download_file_format.pdf:"
   ]
  },
  {
   "cell_type": "raw",
   "metadata": {},
   "source": [
    "The CBC Historical Results tools provide data for the following fields. Please note that some\n",
    "fields are only available in certain reports.\n",
    "\n",
    " Field Name                   Description\n",
    " Species ID                   The unique code for the species being reported\n",
    " Species Common Name          The common name of the species being reported\n",
    " Year                         The CBC count year for these observations. CBC count years\n",
    "                              start at count year 1 for the 1900-01 season.\n",
    " Number                       The sum of all observed individuals for the selected query region\n",
    "                              and species. This is computed as the sum of the individual\n",
    "                              CBC_OBS.HOW_MANY values from each observation.\n",
    " Number per hour              The average of the individual number per party hour values for\n",
    "                              each count circle in the region. In the case of no observations of a\n",
    "                              given species by a circle within the query region, a value of 0 per\n",
    "                              party hour will be averaged in.\n",
    " Number per hour mean         The geometric mean of the individual number per party hour\n",
    " (species report only)        calculations for each count circle in the region. The geometric\n",
    "                              mean value is calculated as:\n",
    "\n",
    "                              e avg( ln( (how_many / party hrs) +1 ) ) - 1\n",
    " Hours                        The sum of all party hours for each submission in the given query\n",
    "                              region and count year.\n",
    " Reporting Counts             The number of count circles in the selected query region reporting\n",
    " (species report only)        the selected species in the given count year.\n",
    " Reporting Observers          The total number of observers on count circles reporting the\n",
    " (species report only)        selected species in the selected query region for the given count\n",
    "                              year.\n",
    " Total Counts (species        The total number of count circles in the selected query region for\n",
    " report only)                 the given count year.\n",
    " Total Observers (species     The total number of count circle observers in the selected query\n",
    " report only)                 region. This is computed as the sum of all the\n",
    "                              CBC_SUB_AUX.NUM_OBSERVERS values for all included\n",
    "                              submission records.\n",
    " Flags (count circle report   CBC Regional Editor flags\n",
    " only)"
   ]
  },
  {
   "cell_type": "markdown",
   "metadata": {},
   "source": [
    "Also by [examining the excel file](excel_scrot.png), we can determine the meaning out the output from the above commands.\n",
    "\n",
    "For example: ``Total Hrs.: 253.00\",1908,7.5415,`` indicated there were 1908 actual observations of the birds in 253 hours.\n",
    "\n",
    "It is still unclear if the observations were of unique birds or not.\n"
   ]
  },
  {
   "cell_type": "markdown",
   "metadata": {},
   "source": [
    "### Prep txt files for chickadee and bald eagle counts only"
   ]
  },
  {
   "cell_type": "raw",
   "metadata": {},
   "source": [
    "> cat HistoricalResultsByCount\\ \\[AKAN-1901-2018\\].csv | grep \"ickadee\" -C10 | grep \"lack\" -A5 > chickadee_only.txt\n",
    "> cat HistoricalResultsByCount\\ \\[AKAN-1901-2018\\].csv | grep \"Bald Eagle\" -A5 > bald_eagle_only.txt\n",
    ">tail -n10 bald_eagle_only.txt\n",
    "    \"Bald Eagle\n",
    "    [Haliaeetus leucocephalus]\",\"1941 [42]\n",
    "    Count Date: 12/27/1941\n",
    "    # Participants:\n",
    "    # Species Reported:\n",
    "    Total Hrs.: \",,,"
   ]
  },
  {
   "cell_type": "markdown",
   "metadata": {},
   "source": [
    "## Prepare csv format for observations\n",
    "\n",
    "``countYear, month, date, year, NumHrs, Ncount, density``\n",
    "\n",
    "The following cells create data looking like:\n",
    "\n",
    "``42,12,27,1941, ,10,0.0000``\n",
    "\n",
    "``61,1,2,1961, 29.00,52,1.7931``\n",
    "\n",
    "``63,12,23,1962, 33.00,23,0.6970``\n",
    "\n",
    "``...``\n",
    "\n",
    "\n",
    "### Bald Eagle\n"
   ]
  },
  {
   "cell_type": "code",
   "execution_count": 85,
   "metadata": {},
   "outputs": [],
   "source": [
    "import sys\n",
    "\n",
    "f = open('bald_eagle_only.txt','r').readlines()\n",
    "countYear = []\n",
    "month = []\n",
    "date = []\n",
    "year = []\n",
    "NumHrs = []\n",
    "Ncount = []\n",
    "density = []\n",
    "for line in f:\n",
    "    if 'Date' in line:\n",
    "        year +=  [line.strip().split('/')[-1]]\n",
    "        date +=  [line.strip().split('/')[-2]]\n",
    "        month += [line.strip().split('/')[-3].split(':')[-1].strip()]\n",
    "        \n",
    "    if 'Ha' in line:\n",
    "        countYear += [line.strip().split()[-1].replace('[','').replace(']','')]\n",
    "        \n",
    "    if 'Total' in line:\n",
    "        NumHrs += [line.strip().split(',')[0].split(':')[-1].replace('\"','')]\n",
    "        Ncount += [line.strip().split(',')[1:][0]]\n",
    "        density+= [line.strip().split(',')[1:][1]]\n",
    "\n",
    "f.close()\n",
    "################################\n",
    "#  write it all to csv format  #\n",
    "################################\n",
    "\n",
    "#with open('bald_eagle_counts.csv', 'w') as f:\n",
    "#    for i in range(len(countYear)):\n",
    "#        f.write('{},{},{},{},{},{},{}\\n'.format(countYear[i],month[i],date[i],year[i],NumHrs[i],Ncount[i],density[i]))\n",
    "#f.close()\n",
    "    \n",
    "    "
   ]
  },
  {
   "cell_type": "code",
   "execution_count": 84,
   "metadata": {},
   "outputs": [],
   "source": [
    "import sys\n",
    "\n",
    "f = open('chickadee_only.txt','r').readlines()\n",
    "countYear = []\n",
    "month = []\n",
    "date = []\n",
    "year = []\n",
    "NumHrs = []\n",
    "Ncount = []\n",
    "density = []\n",
    "for line in f:\n",
    "    if 'Date' in line:\n",
    "        year +=  [line.strip().split('/')[-1]]\n",
    "        date +=  [line.strip().split('/')[-2]]\n",
    "        month += [line.strip().split('/')[-3].split(':')[-1].strip()]\n",
    "        \n",
    "    if 'Poe' in line:\n",
    "        countYear += [line.strip().split()[-1].replace('[','').replace(']','')]\n",
    "        \n",
    "    if 'Total' in line:\n",
    "        NumHrs += [line.strip().split(',')[0].split(':')[-1].replace('\"','')]\n",
    "        Ncount += [line.strip().split(',')[1:][0]]\n",
    "        density+= [line.strip().split(',')[1:][1]]\n",
    "\n",
    "f.close()\n",
    "\n",
    "################################\n",
    "#  write it all to csv format  #\n",
    "################################\n",
    "#\n",
    "#with open('chickadee_counts.csv', 'w') as f:\n",
    "#    for i in range(len(countYear)):\n",
    "#        f.write('{},{},{},{},{},{},{}\\n'.format(countYear[i],month[i],date[i],year[i],NumHrs[i],Ncount[i],density[i]))\n",
    "#f.close()\n",
    "    "
   ]
  },
  {
   "cell_type": "markdown",
   "metadata": {},
   "source": [
    "### Concatenate headers with csv data"
   ]
  },
  {
   "cell_type": "markdown",
   "metadata": {},
   "source": [
    "``> echo \"countYear, month, date, year, NumHrs, Ncount, density\"  > header.csv``\n",
    "\n",
    "``> echo $(cat header.csv bald_eagle_counts.csv) > bald_eagle_counts.csv``\n",
    "\n",
    "``> echo $(cat header.csv bald_eagle_counts.csv) > chickadee_counts.csv``\n",
    "\n",
    "``> head -n5 chickadee_counts.csv``\n",
    "\n",
    "``    countYear, month, date, year, NumHrs, Ncount, density``\n",
    "\n",
    "``    42,12,27,1941, ,10,0.0000``\n",
    "\n",
    "``    61,1,2,1961, 29.00,52,1.7931``\n",
    "\n",
    "``    63,12,23,1962, 33.00,23,0.6970``\n",
    "\n",
    "``    64,12,22,1963, 21.00,6,0.2857``\n"
   ]
  },
  {
   "cell_type": "code",
   "execution_count": 28,
   "metadata": {},
   "outputs": [
    {
     "name": "stderr",
     "output_type": "stream",
     "text": [
      "/anaconda3/lib/python3.6/site-packages/ipykernel_launcher.py:4: FutureWarning: from_csv is deprecated. Please use read_csv(...) instead. Note that some of the default arguments are different, so please refer to the documentation for from_csv when changing your function calls\n",
      "  after removing the cwd from sys.path.\n",
      "/anaconda3/lib/python3.6/site-packages/ipykernel_launcher.py:5: FutureWarning: from_csv is deprecated. Please use read_csv(...) instead. Note that some of the default arguments are different, so please refer to the documentation for from_csv when changing your function calls\n",
      "  \"\"\"\n",
      "/anaconda3/lib/python3.6/site-packages/ipykernel_launcher.py:6: FutureWarning: from_csv is deprecated. Please use read_csv(...) instead. Note that some of the default arguments are different, so please refer to the documentation for from_csv when changing your function calls\n",
      "  \n",
      "/anaconda3/lib/python3.6/site-packages/ipykernel_launcher.py:7: FutureWarning: from_csv is deprecated. Please use read_csv(...) instead. Note that some of the default arguments are different, so please refer to the documentation for from_csv when changing your function calls\n",
      "  import sys\n",
      "/anaconda3/lib/python3.6/site-packages/ipykernel_launcher.py:8: FutureWarning: from_csv is deprecated. Please use read_csv(...) instead. Note that some of the default arguments are different, so please refer to the documentation for from_csv when changing your function calls\n",
      "  \n",
      "/anaconda3/lib/python3.6/site-packages/ipykernel_launcher.py:9: FutureWarning: from_csv is deprecated. Please use read_csv(...) instead. Note that some of the default arguments are different, so please refer to the documentation for from_csv when changing your function calls\n",
      "  if __name__ == '__main__':\n",
      "/anaconda3/lib/python3.6/site-packages/ipykernel_launcher.py:10: FutureWarning: from_csv is deprecated. Please use read_csv(...) instead. Note that some of the default arguments are different, so please refer to the documentation for from_csv when changing your function calls\n",
      "  # Remove the CWD from sys.path while we load stuff.\n",
      "/anaconda3/lib/python3.6/site-packages/ipykernel_launcher.py:11: FutureWarning: from_csv is deprecated. Please use read_csv(...) instead. Note that some of the default arguments are different, so please refer to the documentation for from_csv when changing your function calls\n",
      "  # This is added back by InteractiveShellApp.init_path()\n"
     ]
    }
   ],
   "source": [
    "import numpy as np\n",
    "import pandas as pd\n",
    "\n",
    "effortdf = pd.DataFrame.from_csv('effort.csv')\n",
    "weatherdf = pd.DataFrame.from_csv('weather.csv')\n",
    "droughtdf = pd.DataFrame.from_csv('drought_fig-1.csv')\n",
    "heavyPrecipdf = pd.DataFrame.from_csv('heavy-precip_fig-1.csv')\n",
    "precipdf = pd.DataFrame.from_csv('precipitation_fig-1.csv')\n",
    "temperaturedf = pd.DataFrame.from_csv('temperature_fig-1.csv')\n",
    "bald_eagledf = pd.DataFrame.from_csv('bald_eagle_counts.csv')\n",
    "chickadeedf = pd.DataFrame.from_csv('chickadee_counts.csv')"
   ]
  },
  {
   "cell_type": "markdown",
   "metadata": {},
   "source": [
    "### Need to get all tables indexed by count year"
   ]
  },
  {
   "cell_type": "code",
   "execution_count": 42,
   "metadata": {},
   "outputs": [
    {
     "name": "stdout",
     "output_type": "stream",
     "text": [
      "100 1999 100\n",
      "101 2000 101\n",
      "102 2001 102\n",
      "103 2002 103\n",
      "104 2003 104\n",
      "105 2004 105\n",
      "106 2005 106\n",
      "107 2006 107\n",
      "108 2007 108\n",
      "109 2008 109\n",
      "110 2009 110\n",
      "111 2010 111\n",
      "112 2011 112\n",
      "113 2012 113\n",
      "114 2013 114\n",
      "115 2014 115\n",
      "116 2015 116\n",
      "117 2016 117\n",
      "118 2017 118\n"
     ]
    }
   ],
   "source": [
    "count_year_dict     = dict()\n",
    "inv_count_year_dict = dict()\n",
    "\n",
    "for i in range(-5,120):\n",
    "    count_year_dict[i] = 1900+i-1\n",
    "    inv_count_year_dict[1900+i-1] = i\n",
    "    \n",
    "for i in range(100,119):\n",
    "    print(i, count_year_dict[i], inv_count_year_dict[count_year_dict[i]])\n",
    "    "
   ]
  },
  {
   "cell_type": "code",
   "execution_count": 43,
   "metadata": {},
   "outputs": [
    {
     "data": {
      "text/plain": [
       "dict_keys([-5, -4, -3, -2, -1, 0, 1, 2, 3, 4, 5, 6, 7, 8, 9, 10, 11, 12, 13, 14, 15, 16, 17, 18, 19, 20, 21, 22, 23, 24, 25, 26, 27, 28, 29, 30, 31, 32, 33, 34, 35, 36, 37, 38, 39, 40, 41, 42, 43, 44, 45, 46, 47, 48, 49, 50, 51, 52, 53, 54, 55, 56, 57, 58, 59, 60, 61, 62, 63, 64, 65, 66, 67, 68, 69, 70, 71, 72, 73, 74, 75, 76, 77, 78, 79, 80, 81, 82, 83, 84, 85, 86, 87, 88, 89, 90, 91, 92, 93, 94, 95, 96, 97, 98, 99, 100, 101, 102, 103, 104, 105, 106, 107, 108, 109, 110, 111, 112, 113, 114, 115, 116, 117, 118, 119])"
      ]
     },
     "execution_count": 43,
     "metadata": {},
     "output_type": "execute_result"
    }
   ],
   "source": [
    "count_year_dict.keys()"
   ]
  },
  {
   "cell_type": "code",
   "execution_count": 44,
   "metadata": {},
   "outputs": [
    {
     "data": {
      "text/plain": [
       "dict_keys([1894, 1895, 1896, 1897, 1898, 1899, 1900, 1901, 1902, 1903, 1904, 1905, 1906, 1907, 1908, 1909, 1910, 1911, 1912, 1913, 1914, 1915, 1916, 1917, 1918, 1919, 1920, 1921, 1922, 1923, 1924, 1925, 1926, 1927, 1928, 1929, 1930, 1931, 1932, 1933, 1934, 1935, 1936, 1937, 1938, 1939, 1940, 1941, 1942, 1943, 1944, 1945, 1946, 1947, 1948, 1949, 1950, 1951, 1952, 1953, 1954, 1955, 1956, 1957, 1958, 1959, 1960, 1961, 1962, 1963, 1964, 1965, 1966, 1967, 1968, 1969, 1970, 1971, 1972, 1973, 1974, 1975, 1976, 1977, 1978, 1979, 1980, 1981, 1982, 1983, 1984, 1985, 1986, 1987, 1988, 1989, 1990, 1991, 1992, 1993, 1994, 1995, 1996, 1997, 1998, 1999, 2000, 2001, 2002, 2003, 2004, 2005, 2006, 2007, 2008, 2009, 2010, 2011, 2012, 2013, 2014, 2015, 2016, 2017, 2018])"
      ]
     },
     "execution_count": 44,
     "metadata": {},
     "output_type": "execute_result"
    }
   ],
   "source": [
    "inv_count_year_dict.keys()"
   ]
  },
  {
   "cell_type": "code",
   "execution_count": 45,
   "metadata": {},
   "outputs": [
    {
     "data": {
      "text/plain": [
       "110"
      ]
     },
     "execution_count": 45,
     "metadata": {},
     "output_type": "execute_result"
    }
   ],
   "source": [
    "inv_count_year_dict[2009]"
   ]
  },
  {
   "cell_type": "code",
   "execution_count": null,
   "metadata": {},
   "outputs": [],
   "source": []
  }
 ],
 "metadata": {
  "kernelspec": {
   "display_name": "Python 3",
   "language": "python",
   "name": "python3"
  },
  "language_info": {
   "codemirror_mode": {
    "name": "ipython",
    "version": 3
   },
   "file_extension": ".py",
   "mimetype": "text/x-python",
   "name": "python",
   "nbconvert_exporter": "python",
   "pygments_lexer": "ipython3",
   "version": "3.6.4"
  }
 },
 "nbformat": 4,
 "nbformat_minor": 2
}
