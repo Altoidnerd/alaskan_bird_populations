{
 "cells": [
  {
   "cell_type": "code",
   "execution_count": 29,
   "metadata": {},
   "outputs": [
    {
     "name": "stderr",
     "output_type": "stream",
     "text": [
      "/anaconda3/lib/python3.6/site-packages/ipykernel_launcher.py:5: FutureWarning: from_csv is deprecated. Please use read_csv(...) instead. Note that some of the default arguments are different, so please refer to the documentation for from_csv when changing your function calls\n",
      "  \"\"\"\n",
      "/anaconda3/lib/python3.6/site-packages/ipykernel_launcher.py:6: FutureWarning: from_csv is deprecated. Please use read_csv(...) instead. Note that some of the default arguments are different, so please refer to the documentation for from_csv when changing your function calls\n",
      "  \n",
      "/anaconda3/lib/python3.6/site-packages/ipykernel_launcher.py:7: FutureWarning: from_csv is deprecated. Please use read_csv(...) instead. Note that some of the default arguments are different, so please refer to the documentation for from_csv when changing your function calls\n",
      "  import sys\n",
      "/anaconda3/lib/python3.6/site-packages/ipykernel_launcher.py:8: FutureWarning: from_csv is deprecated. Please use read_csv(...) instead. Note that some of the default arguments are different, so please refer to the documentation for from_csv when changing your function calls\n",
      "  \n",
      "/anaconda3/lib/python3.6/site-packages/ipykernel_launcher.py:9: FutureWarning: from_csv is deprecated. Please use read_csv(...) instead. Note that some of the default arguments are different, so please refer to the documentation for from_csv when changing your function calls\n",
      "  if __name__ == '__main__':\n",
      "/anaconda3/lib/python3.6/site-packages/ipykernel_launcher.py:10: FutureWarning: from_csv is deprecated. Please use read_csv(...) instead. Note that some of the default arguments are different, so please refer to the documentation for from_csv when changing your function calls\n",
      "  # Remove the CWD from sys.path while we load stuff.\n",
      "/anaconda3/lib/python3.6/site-packages/ipykernel_launcher.py:11: FutureWarning: from_csv is deprecated. Please use read_csv(...) instead. Note that some of the default arguments are different, so please refer to the documentation for from_csv when changing your function calls\n",
      "  # This is added back by InteractiveShellApp.init_path()\n",
      "/anaconda3/lib/python3.6/site-packages/ipykernel_launcher.py:12: FutureWarning: from_csv is deprecated. Please use read_csv(...) instead. Note that some of the default arguments are different, so please refer to the documentation for from_csv when changing your function calls\n",
      "  if sys.path[0] == '':\n"
     ]
    }
   ],
   "source": [
    "import pandas as pd\n",
    "import numpy as np\n",
    "import matplotlib.pyplot as plt\n",
    "\n",
    "dfeffort = pd.DataFrame.from_csv('effort.csv')\n",
    "dfweather = pd.DataFrame.from_csv('weather.csv')\n",
    "dfdrought = pd.DataFrame.from_csv('drought.csv')\n",
    "dfheavyPrecip = pd.DataFrame.from_csv('heavy-precip.csv')\n",
    "dfprecip = pd.DataFrame.from_csv('precipitation.csv')\n",
    "dftemperature = pd.DataFrame.from_csv('temperature.csv')\n",
    "dfbald_eagle = pd.DataFrame.from_csv('bald_eagle_counts.csv')\n",
    "dfchickadee = pd.DataFrame.from_csv('chickadee_counts.csv')"
   ]
  },
  {
   "cell_type": "markdown",
   "metadata": {},
   "source": [
    "# Examine bird populations\n",
    "\n",
    "Let's have a look at the normalized bird densities (the number of observations over the number of man hours in that year's cbc) seen over the years with the cbc. \n",
    "\n",
    "\n",
    "### Bald Eagle: black\n",
    "### Chickadee: red"
   ]
  },
  {
   "cell_type": "code",
   "execution_count": 30,
   "metadata": {},
   "outputs": [
    {
     "data": {
      "text/plain": [
       "<matplotlib.collections.PathCollection at 0x11d0c9080>"
      ]
     },
     "execution_count": 30,
     "metadata": {},
     "output_type": "execute_result"
    },
    {
     "data": {
      "image/png": "[encoded data removed]",
      "text/plain": [
       "<matplotlib.figure.Figure at 0x11da36208>"
      ]
     },
     "metadata": {},
     "output_type": "display_data"
    }
   ],
   "source": [
    "plt.scatter(dfbald_eagle.year, dfbald_eagle.density/max(dfbald_eagle[dfbald_eagle.year > 1980].density), color='k')\n",
    "plt.scatter(dfchickadee.year, dfchickadee.density/max(dfchickadee.density), color='r')"
   ]
  },
  {
   "cell_type": "markdown",
   "metadata": {},
   "source": [
    "# Begin Making model\n",
    "\n",
    "\n",
    "We will try to predict the density of bird observations based on the various weather criteria, plotted together below."
   ]
  },
  {
   "cell_type": "code",
   "execution_count": 31,
   "metadata": {},
   "outputs": [
    {
     "data": {
      "text/plain": [
       "<matplotlib.collections.PathCollection at 0x11d587320>"
      ]
     },
     "execution_count": 31,
     "metadata": {},
     "output_type": "execute_result"
    },
    {
     "data": {
      "image/png": "[encoded data removed]",
      "text/plain": [
       "<matplotlib.figure.Figure at 0x11da36438>"
      ]
     },
     "metadata": {},
     "output_type": "display_data"
    }
   ],
   "source": [
    "plt.scatter(dfheavyPrecip.year, dfheavyPrecip.index_value, color='c', marker='+')\n",
    "plt.scatter(dfheavyPrecip.year, dfheavyPrecip.nine_yr_avg, color='b', s=5)\n",
    "plt.scatter(dftemperature.year, dftemperature.earth_surface/10, color='y', marker='+')\n",
    "plt.scatter(dfbald_eagle.year, dfbald_eagle.density, color='k', s=4)\n",
    "plt.scatter(dfchickadee.year, dfchickadee.density/100, color='r', s=4)"
   ]
  },
  {
   "cell_type": "markdown",
   "metadata": {},
   "source": [
    "# construct Y_chickadee\n",
    "\n",
    "Use dictionaries with years associated to be careful.\n",
    "\n",
    "### Start with chickadee only\n",
    "\n",
    "... because the data is a little more complete.  Lets drop countYear 42 (1941) and just use 1961 and on."
   ]
  },
  {
   "cell_type": "code",
   "execution_count": 63,
   "metadata": {},
   "outputs": [],
   "source": [
    "dfchickadee = dfchickadee[dfchickadee.year > 1960]\n",
    "Y_chickadee = np.array(dfchickadee.density.tolist())\n",
    "Y_chickadee_dict = dict()\n",
    "for i in range(len(dfchickadee)):\n",
    "    Y_chickadee_dict[dfchickadee.iloc[i].year] = dfchickadee.iloc[i].density\n"
   ]
  },
  {
   "cell_type": "code",
   "execution_count": 64,
   "metadata": {},
   "outputs": [
    {
     "data": {
      "text/plain": [
       "{1961: 1.7931,\n",
       " 1962: 0.697,\n",
       " 1963: 0.2857,\n",
       " 1965: 2.5,\n",
       " 1966: 0.7143,\n",
       " 1967: 0.2143,\n",
       " 1968: 4.5833,\n",
       " 1969: 3.9286,\n",
       " 1970: 7.6,\n",
       " 1971: 4.1667,\n",
       " 1972: 4.3939,\n",
       " 1973: 4.9545,\n",
       " 1974: 4.8361,\n",
       " 1975: 7.7294,\n",
       " 1976: 5.3162,\n",
       " 1977: 3.7091,\n",
       " 1978: 5.1408,\n",
       " 1979: 5.5106,\n",
       " 1980: 3.7282,\n",
       " 1981: 4.0282,\n",
       " 1982: 4.6519,\n",
       " 1983: 4.2698,\n",
       " 1984: 9.0147,\n",
       " 1985: 5.9318,\n",
       " 1986: 4.8973,\n",
       " 1987: 4.7685,\n",
       " 1988: 4.4552,\n",
       " 1989: 7.5078,\n",
       " 1990: 8.8803,\n",
       " 1991: 6.0987,\n",
       " 1992: 11.3314,\n",
       " 1993: 5.8231,\n",
       " 1994: 5.8456,\n",
       " 1995: 9.4302,\n",
       " 1996: 9.2156,\n",
       " 1997: 8.3404,\n",
       " 1998: 9.2165,\n",
       " 1999: 7.9538,\n",
       " 2000: 8.2908,\n",
       " 2001: 9.731,\n",
       " 2002: 6.232,\n",
       " 2003: 9.2267,\n",
       " 2004: 9.5665,\n",
       " 2005: 9.9516,\n",
       " 2006: 7.9725,\n",
       " 2007: 7.6872,\n",
       " 2008: 9.2347,\n",
       " 2009: 3.505,\n",
       " 2010: 8.3573,\n",
       " 2011: 9.0652,\n",
       " 2012: 6.9145,\n",
       " 2013: 6.5077,\n",
       " 2014: 9.2757,\n",
       " 2015: 8.8134,\n",
       " 2016: 10.9501,\n",
       " 2017: 7.5415}"
      ]
     },
     "execution_count": 64,
     "metadata": {},
     "output_type": "execute_result"
    }
   ],
   "source": [
    "Y_chickadee_dict"
   ]
  },
  {
   "cell_type": "code",
   "execution_count": 68,
   "metadata": {},
   "outputs": [],
   "source": [
    "dfbald_eagle = dfbald_eagle[dfbald_eagle.year > 1980]\n",
    "Y_bald_eagle = np.array(dfbald_eagle.density.tolist())\n",
    "Y_bald_eagle_dict = dict()\n",
    "for i in range(len(dfbald_eagle)):\n",
    "    Y_bald_eagle_dict[dfbald_eagle.iloc[i].year] = dfbald_eagle.iloc[i].density\n",
    "\n"
   ]
  },
  {
   "cell_type": "code",
   "execution_count": 70,
   "metadata": {},
   "outputs": [
    {
     "data": {
      "text/plain": [
       "{1981: 0.007,\n",
       " 1982: 0.0074,\n",
       " 1983: 0.0317,\n",
       " 1984: 0.0147,\n",
       " 1985: 0.0076,\n",
       " 1986: 0.0342,\n",
       " 1987: 0.0394,\n",
       " 1988: 0.0224,\n",
       " 1989: 0.0156,\n",
       " 1990: 0.0282,\n",
       " 1991: 0.0197,\n",
       " 1992: 0.0286,\n",
       " 1993: 0.0272,\n",
       " 1994: 0.0403,\n",
       " 1995: 0.0407,\n",
       " 1996: 0.0359,\n",
       " 1997: 0.0479,\n",
       " 1998: 0.0464,\n",
       " 1999: 0.041,\n",
       " 2000: 0.0459,\n",
       " 2001: 0.0468,\n",
       " 2002: 0.0387,\n",
       " 2003: 0.0533,\n",
       " 2004: 0.0719,\n",
       " 2005: 0.0699,\n",
       " 2006: 0.1466,\n",
       " 2007: 0.143,\n",
       " 2008: 0.0969,\n",
       " 2009: 0.1238,\n",
       " 2010: 0.1489,\n",
       " 2011: 0.1961,\n",
       " 2012: 0.1265,\n",
       " 2013: 0.0824,\n",
       " 2014: 0.0981,\n",
       " 2015: 0.0747,\n",
       " 2016: 0.1378,\n",
       " 2017: 0.0632}"
      ]
     },
     "execution_count": 70,
     "metadata": {},
     "output_type": "execute_result"
    }
   ],
   "source": [
    "Y_bald_eagle\n",
    "Y_bald_eagle_dict"
   ]
  },
  {
   "cell_type": "code",
   "execution_count": null,
   "metadata": {},
   "outputs": [],
   "source": []
  },
  {
   "cell_type": "code",
   "execution_count": null,
   "metadata": {},
   "outputs": [],
   "source": []
  }
 ],
 "metadata": {
  "kernelspec": {
   "display_name": "Python 3",
   "language": "python",
   "name": "python3"
  },
  "language_info": {
   "codemirror_mode": {
    "name": "ipython",
    "version": 3
   },
   "file_extension": ".py",
   "mimetype": "text/x-python",
   "name": "python",
   "nbconvert_exporter": "python",
   "pygments_lexer": "ipython3",
   "version": "3.6.4"
  }
 },
 "nbformat": 4,
 "nbformat_minor": 2
}
