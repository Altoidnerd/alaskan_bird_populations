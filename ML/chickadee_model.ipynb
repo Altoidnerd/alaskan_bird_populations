{
 "cells": [
  {
   "cell_type": "code",
   "execution_count": 29,
   "metadata": {},
   "outputs": [
    {
     "name": "stderr",
     "output_type": "stream",
     "text": [
      "/anaconda3/lib/python3.6/site-packages/ipykernel_launcher.py:5: FutureWarning: from_csv is deprecated. Please use read_csv(...) instead. Note that some of the default arguments are different, so please refer to the documentation for from_csv when changing your function calls\n",
      "  \"\"\"\n",
      "/anaconda3/lib/python3.6/site-packages/ipykernel_launcher.py:6: FutureWarning: from_csv is deprecated. Please use read_csv(...) instead. Note that some of the default arguments are different, so please refer to the documentation for from_csv when changing your function calls\n",
      "  \n",
      "/anaconda3/lib/python3.6/site-packages/ipykernel_launcher.py:7: FutureWarning: from_csv is deprecated. Please use read_csv(...) instead. Note that some of the default arguments are different, so please refer to the documentation for from_csv when changing your function calls\n",
      "  import sys\n",
      "/anaconda3/lib/python3.6/site-packages/ipykernel_launcher.py:8: FutureWarning: from_csv is deprecated. Please use read_csv(...) instead. Note that some of the default arguments are different, so please refer to the documentation for from_csv when changing your function calls\n",
      "  \n",
      "/anaconda3/lib/python3.6/site-packages/ipykernel_launcher.py:9: FutureWarning: from_csv is deprecated. Please use read_csv(...) instead. Note that some of the default arguments are different, so please refer to the documentation for from_csv when changing your function calls\n",
      "  if __name__ == '__main__':\n",
      "/anaconda3/lib/python3.6/site-packages/ipykernel_launcher.py:10: FutureWarning: from_csv is deprecated. Please use read_csv(...) instead. Note that some of the default arguments are different, so please refer to the documentation for from_csv when changing your function calls\n",
      "  # Remove the CWD from sys.path while we load stuff.\n",
      "/anaconda3/lib/python3.6/site-packages/ipykernel_launcher.py:11: FutureWarning: from_csv is deprecated. Please use read_csv(...) instead. Note that some of the default arguments are different, so please refer to the documentation for from_csv when changing your function calls\n",
      "  # This is added back by InteractiveShellApp.init_path()\n",
      "/anaconda3/lib/python3.6/site-packages/ipykernel_launcher.py:12: FutureWarning: from_csv is deprecated. Please use read_csv(...) instead. Note that some of the default arguments are different, so please refer to the documentation for from_csv when changing your function calls\n",
      "  if sys.path[0] == '':\n"
     ]
    }
   ],
   "source": [
    "import pandas as pd\n",
    "import numpy as np\n",
    "import matplotlib.pyplot as plt\n",
    "\n",
    "dfeffort = pd.DataFrame.from_csv('effort.csv')\n",
    "dfweather = pd.DataFrame.from_csv('weather.csv')\n",
    "dfdrought = pd.DataFrame.from_csv('drought.csv')\n",
    "dfheavyPrecip = pd.DataFrame.from_csv('heavy-precip.csv')\n",
    "dfprecip = pd.DataFrame.from_csv('precipitation.csv')\n",
    "dftemperature = pd.DataFrame.from_csv('temperature.csv')\n",
    "dfbald_eagle = pd.DataFrame.from_csv('bald_eagle_counts.csv')\n",
    "dfchickadee = pd.DataFrame.from_csv('chickadee_counts.csv')"
   ]
  },
  {
   "cell_type": "markdown",
   "metadata": {},
   "source": [
    "# Examine bird populations\n",
    "\n",
    "Let's have a look at the normalized bird densities (the number of observations over the number of man hours in that year's cbc) seen over the years with the cbc. \n",
    "\n",
    "\n",
    "### Bald Eagle: black\n",
    "### Chickadee: red"
   ]
  },
  {
   "cell_type": "code",
   "execution_count": 30,
   "metadata": {},
   "outputs": [
    {
     "data": {
      "text/plain": [
       "<matplotlib.collections.PathCollection at 0x11d0c9080>"
      ]
     },
     "execution_count": 30,
     "metadata": {},
     "output_type": "execute_result"
    },
    {
     "data": {
      "image/png": "[encoded data removed]",
      "text/plain": [
       "<matplotlib.figure.Figure at 0x11da36208>"
      ]
     },
     "metadata": {},
     "output_type": "display_data"
    }
   ],
   "source": [
    "plt.scatter(dfbald_eagle.year, dfbald_eagle.density/max(dfbald_eagle[dfbald_eagle.year > 1980].density), color='k')\n",
    "plt.scatter(dfchickadee.year, dfchickadee.density/max(dfchickadee.density), color='r')"
   ]
  },
  {
   "cell_type": "markdown",
   "metadata": {},
   "source": [
    "# Begin Making model\n",
    "\n",
    "\n",
    "We will try to predict the density of bird observations based on the various weather criteria, plotted together below."
   ]
  },
  {
   "cell_type": "code",
   "execution_count": 31,
   "metadata": {},
   "outputs": [
    {
     "data": {
      "text/plain": [
       "<matplotlib.collections.PathCollection at 0x11d587320>"
      ]
     },
     "execution_count": 31,
     "metadata": {},
     "output_type": "execute_result"
    },
    {
     "data": {
      "image/png": "[encoded data removed]",
      "text/plain": [
       "<matplotlib.figure.Figure at 0x11da36438>"
      ]
     },
     "metadata": {},
     "output_type": "display_data"
    }
   ],
   "source": [
    "plt.scatter(dfheavyPrecip.year, dfheavyPrecip.index_value, color='c', marker='+')\n",
    "plt.scatter(dfheavyPrecip.year, dfheavyPrecip.nine_yr_avg, color='b', s=5)\n",
    "plt.scatter(dftemperature.year, dftemperature.earth_surface/10, color='y', marker='+')\n",
    "plt.scatter(dfbald_eagle.year, dfbald_eagle.density, color='k', s=4)\n",
    "plt.scatter(dfchickadee.year, dfchickadee.density/100, color='r', s=4)"
   ]
  },
  {
   "cell_type": "markdown",
   "metadata": {},
   "source": [
    "# construct Y_chickadee\n",
    "\n",
    "Use dictionaries with years associated to be careful.\n",
    "\n",
    "### Start with chickadee only\n",
    "\n",
    "... because the data is a little more complete.  Lets drop countYear 42 (1941) and just use 1961 and on."
   ]
  },
  {
   "cell_type": "code",
   "execution_count": 114,
   "metadata": {},
   "outputs": [],
   "source": [
    "dfchickadee = dfchickadee[dfchickadee.year > 1960]\n",
    "dfchickadee = dfchickadee[dfchickadee.year < 2016]\n",
    "Y_chickadee = np.array(dfchickadee.density.tolist())\n",
    "Y_chickadee_dict = dict()\n",
    "for i in range(len(dfchickadee)):\n",
    "    Y_chickadee_dict[dfchickadee.iloc[i].year] = dfchickadee.iloc[i].density\n"
   ]
  },
  {
   "cell_type": "code",
   "execution_count": 115,
   "metadata": {},
   "outputs": [
    {
     "name": "stdout",
     "output_type": "stream",
     "text": [
      "54 {1961: 1.7931, 1962: 0.697, 1963: 0.2857, 1965: 2.5, 1966: 0.7143, 1967: 0.2143, 1968: 4.5833, 1969: 3.9286, 1970: 7.6, 1971: 4.1667, 1972: 4.3939, 1973: 4.9545, 1974: 4.8361, 1975: 7.7294, 1976: 5.3162, 1977: 3.7091, 1978: 5.1408, 1979: 5.5106, 1980: 3.7282, 1981: 4.0282, 1982: 4.6519, 1983: 4.2698, 1984: 9.0147, 1985: 5.9318, 1986: 4.8973, 1987: 4.7685, 1988: 4.4552, 1989: 7.5078, 1990: 8.8803, 1991: 6.0987, 1992: 11.3314, 1993: 5.8231, 1994: 5.8456, 1995: 9.4302, 1996: 9.2156, 1997: 8.3404, 1998: 9.2165, 1999: 7.9538, 2000: 8.2908, 2001: 9.731, 2002: 6.232, 2003: 9.2267, 2004: 9.5665, 2005: 9.9516, 2006: 7.9725, 2007: 7.6872, 2008: 9.2347, 2009: 3.505, 2010: 8.3573, 2011: 9.0652, 2012: 6.9145, 2013: 6.5077, 2014: 9.2757, 2015: 8.8134}\n"
     ]
    }
   ],
   "source": [
    "print(len(Y_chickadee_dict), Y_chickadee_dict)"
   ]
  },
  {
   "cell_type": "markdown",
   "metadata": {},
   "source": [
    "# Construct Features\n",
    "\n",
    "This magic function takes the year as an argument and returns the features from the very, very already-processed dataframes ``dftemperature, dfdrought, dfprecip, dfheavyPrecip``.\n",
    "\n",
    "The feature list:\n",
    "\n",
    "``[earth_surface_temp, drought_index, drought_nine_yr_avg, heavy_precip_index, heavy_precip_nine_yr_avg, precip_anomoly]``"
   ]
  },
  {
   "cell_type": "code",
   "execution_count": 120,
   "metadata": {},
   "outputs": [],
   "source": [
    "def build_features(year_):\n",
    "    X = []\n",
    "    \n",
    "    def lmap(func, alist):\n",
    "        return list(map(func, alist))\n",
    "        \n",
    "    temp_row = dftemperature[dftemperature.year == year_]\n",
    "    X = X + lmap(float, [temp_row.earth_surface])#,temp_row.lower_troposphere_uah, temp_row.lower_troposphere_rss]\n",
    "    drought_row = dfdrought[dfdrought.year == year_]\n",
    "    X = X + lmap(float, [drought_row.annual_avg, drought_row.nine_yr_avg])\n",
    "    hprecip_row = dfheavyPrecip[dfheavyPrecip.year == year_]\n",
    "    X = X + lmap(float, [hprecip_row.index_value, hprecip_row.nine_yr_avg])\n",
    "    precip_row = dfprecip[dfprecip.year == year_]\n",
    "    X = X + lmap(float, [precip_row.anomoly_inches])\n",
    "    return np.array(X)\n",
    "    "
   ]
  },
  {
   "cell_type": "code",
   "execution_count": 121,
   "metadata": {},
   "outputs": [
    {
     "name": "stdout",
     "output_type": "stream",
     "text": [
      "[-0.15        0.89083333 -0.04791341  0.1         0.08448828  1.31      ]\n",
      "[-0.12        0.02083333 -0.5397526   0.093       0.08441016 -1.34      ]\n",
      "[ 0.24       -2.92916667 -0.90830078  0.04        0.08855078 -4.24      ]\n",
      "[-0.35       -1.0625     -0.91852214  0.122       0.09805859  0.32      ]\n",
      "[-0.33        0.70833333 -0.62742513  0.117       0.10585156 -0.14      ]\n",
      "[-0.53       -1.76416667 -0.16245443  0.129       0.10496094 -2.48      ]\n",
      "[-0.26        0.435       0.45788086  0.075       0.09758594 -0.34      ]\n",
      "[-0.7         1.79583333  1.06626953  0.087       0.09067187  0.45      ]\n",
      "[-0.52        2.50166667  1.38129883  0.092       0.08689062  0.69      ]\n",
      "[-0.41        0.7425      1.46689453  0.087       0.08487109 -0.24      ]\n",
      "[-0.36        0.60333333  1.7450651   0.072       0.08425391  0.39      ]\n",
      "[-0.65        1.97916667  2.39477539  0.088       0.08523828  1.76      ]\n",
      "[0.27       4.8475     3.00868164 0.091      0.08549219 5.02      ]\n",
      "[0.24       3.47416667 2.9914974  0.096      0.08242578 0.68      ]\n",
      "[-0.52        3.71833333  2.20647135  0.066       0.07773437  3.09      ]\n",
      "[-0.55       -0.34833333  1.17426107  0.058       0.07575781 -3.63      ]\n",
      "[ 0.53       -1.15083333  0.57289388  0.096       0.07846094  0.5       ]\n",
      "[-0.97        0.91916667  0.52508464  0.07        0.08566797  0.2       ]\n",
      "[-1.14        2.23        0.64385091  0.084       0.09710937  2.81      ]\n",
      "[ 0.37       -0.39833333  0.81782227  0.126       0.10977734 -1.67      ]\n",
      "[ 1.1        -0.755       1.38746094  0.131       0.11710938  0.02      ]\n",
      "[-0.67        3.3725      2.35296875  0.127       0.11525391  3.92      ]\n",
      "[-0.14        5.01083333  3.05469401  0.102       0.10810547  4.82      ]\n",
      "[-0.04        3.9475      2.9314974   0.085       0.10331641  1.46      ]\n",
      "[-0.72        0.96083333  2.06860026  0.098       0.10350781  0.03      ]\n",
      "[1.3        2.13583333 0.86063151 0.133      0.10416406 1.44      ]\n",
      "[ 1.31       -0.57       -0.2961263   0.095       0.10209375 -0.93      ]\n",
      "[ 0.61       -3.51       -0.94773763  0.085       0.10138672 -4.04      ]\n",
      "[-0.18       -0.85166667 -0.80581706  0.087       0.10569531 -0.89      ]\n",
      "[ 1.49        0.03083333 -0.04497721  0.149       0.11006641  2.23      ]\n",
      "[1.14       1.15083333 0.93129232 0.124      0.10885937 2.5       ]\n",
      "[0.58       1.185      1.82689779 0.056      0.10701563 1.32      ]\n",
      "[-0.76        4.37        2.45514648  0.122       0.11437109  2.68      ]\n",
      "[0.85       2.13833333 2.76329753 0.114      0.13191797 0.68      ]\n",
      "[0.63       2.79583333 2.87972982 0.169      0.15041797 2.75      ]\n",
      "[-0.13        2.78916667  2.8372819   0.203       0.16114844  3.76      ]\n",
      "[0.18       4.29583333 2.34928711 0.112      0.16267187 1.92      ]\n",
      "[2.21       1.55333333 1.15205729 0.206      0.15637109 3.95      ]\n",
      "[ 1.86       -0.13833333 -0.47647461  0.153       0.14327734 -1.47      ]\n",
      "[ 1.25       -4.43583333 -1.7579362   0.092       0.12842969 -1.72      ]\n",
      "[ 1.68       -2.87083333 -2.05039062  0.114       0.11926563 -0.92      ]\n",
      "[ 1.19       -2.05833333 -1.40950195  0.133       0.11882813 -0.89      ]\n",
      "[ 1.24        0.58333333 -0.52384115  0.096       0.12702344  0.57      ]\n",
      "[ 1.08        1.3075     -0.1201595   0.127       0.14283203  3.31      ]\n",
      "[ 1.62        0.08916667 -0.35098307  0.204       0.16108984  0.14      ]\n",
      "[ 2.23       -2.21583333 -0.70557292  0.156       0.17410938 -0.12      ]\n",
      "[ 1.63       -1.65166667 -0.57611003  0.197       0.17779687 -0.76      ]\n",
      "[0.27       0.34666667 0.08567057 0.203      0.1738125  1.3       ]\n",
      "[0.37       1.25083333 0.69221354 0.105      0.16696094 2.36      ]\n",
      "[0.96       3.05       0.6104655  0.215      0.16012891 1.43      ]\n",
      "[ 1.16       -0.1575     -0.09243164  0.138       0.15355859  0.16      ]\n",
      "[ 3.26       -4.00583333 -0.62903971  0.123       0.14987109 -2.41      ]\n",
      "[ 0.41       -0.22416667 -0.41643229  0.168       0.15407422  1.12      ]\n",
      "[0.52       1.23166667 0.28073242 0.131      0.16746484 0.91      ]\n",
      "[2.38       1.1675     0.86248047 0.21       0.185125   4.63      ]\n"
     ]
    }
   ],
   "source": [
    "# test run\n",
    "for i in range(1961,2016):\n",
    "    print(build_features(i))"
   ]
  },
  {
   "cell_type": "markdown",
   "metadata": {},
   "source": [
    "# construct features dict\n",
    "\n",
    "I am having issues with lengths, so I'll make a dictionary to be safe mapping years to feature vectors."
   ]
  },
  {
   "cell_type": "code",
   "execution_count": 116,
   "metadata": {},
   "outputs": [
    {
     "name": "stdout",
     "output_type": "stream",
     "text": [
      "55 {1961: [-0.15, 0.890833333, -0.047913410999999996, 0.1, 0.084488281, 1.31], 1962: [-0.12, 0.020833333, -0.539752604, 0.09300000000000001, 0.084410156, -1.34], 1963: [0.24, -2.929166667, -0.9083007809999999, 0.04, 0.088550781, -4.24], 1964: [-0.35, -1.0625, -0.918522135, 0.122, 0.098058594, 0.32], 1965: [-0.33, 0.708333333, -0.62742513, 0.11699999999999999, 0.10585156300000001, -0.14], 1966: [-0.53, -1.7641666669999998, -0.16245442699999998, 0.129, 0.104960938, -2.48], 1967: [-0.26, 0.435, 0.457880859, 0.075, 0.09758593800000001, -0.34], 1968: [-0.7, 1.795833333, 1.0662695309999999, 0.087, 0.090671875, 0.45], 1969: [-0.52, 2.501666667, 1.381298828, 0.092, 0.086890625, 0.69], 1970: [-0.41, 0.7425, 1.466894531, 0.087, 0.08487109400000001, -0.24], 1971: [-0.36, 0.6033333329999999, 1.745065104, 0.07200000000000001, 0.08425390599999999, 0.39], 1972: [-0.65, 1.9791666669999999, 2.394775391, 0.08800000000000001, 0.085238281, 1.76], 1973: [0.27, 4.8475, 3.0086816410000004, 0.091, 0.08549218800000001, 5.02], 1974: [0.24, 3.474166667, 2.991497396, 0.096, 0.08242578099999999, 0.68], 1975: [-0.52, 3.718333333, 2.206471354, 0.066, 0.077734375, 3.09], 1976: [-0.55, -0.34833333299999997, 1.174261068, 0.057999999999999996, 0.075757813, -3.63], 1977: [0.53, -1.150833333, 0.57289388, 0.096, 0.078460938, 0.5], 1978: [-0.97, 0.919166667, 0.525084635, 0.07, 0.08566796900000001, 0.2], 1979: [-1.14, 2.23, 0.643850911, 0.084, 0.097109375, 2.81], 1980: [0.37, -0.39833333299999996, 0.817822266, 0.126, 0.109777344, -1.67], 1981: [1.1, -0.755, 1.387460938, 0.131, 0.117109375, 0.02], 1982: [-0.67, 3.3725, 2.35296875, 0.127, 0.115253906, 3.92], 1983: [-0.14, 5.010833333, 3.05469401, 0.102, 0.10810546900000001, 4.82], 1984: [-0.04, 3.9475, 2.931497396, 0.085, 0.103316406, 1.46], 1985: [-0.72, 0.960833333, 2.06860026, 0.098, 0.103507813, 0.03], 1986: [1.3, 2.1358333330000003, 0.86063151, 0.133, 0.104164063, 1.44], 1987: [1.31, -0.57, -0.296126302, 0.095, 0.10209375, -0.93], 1988: [0.61, -3.51, -0.94773763, 0.085, 0.101386719, -4.04], 1989: [-0.18, -0.851666667, -0.8058170570000001, 0.087, 0.10569531300000001, -0.89], 1990: [1.49, 0.030833332999999997, -0.044977214, 0.149, 0.11006640599999999, 2.23], 1991: [1.14, 1.150833333, 0.931292318, 0.124, 0.108859375, 2.5], 1992: [0.58, 1.185, 1.826897786, 0.055999999999999994, 0.107015625, 1.32], 1993: [-0.76, 4.37, 2.455146484, 0.122, 0.114371094, 2.68], 1994: [0.85, 2.1383333330000003, 2.763297526, 0.114, 0.131917969, 0.68], 1995: [0.63, 2.795833333, 2.879729818, 0.16899999999999998, 0.150417969, 2.75], 1996: [-0.13, 2.789166667, 2.8372819010000003, 0.203, 0.161148438, 3.76], 1997: [0.18, 4.295833333, 2.349287109, 0.11199999999999999, 0.162671875, 1.92], 1998: [2.21, 1.553333333, 1.152057292, 0.20600000000000002, 0.15637109400000002, 3.95], 1999: [1.86, -0.138333333, -0.476474609, 0.153, 0.143277344, -1.47], 2000: [1.25, -4.435833333, -1.7579361980000001, 0.092, 0.12842968800000001, -1.72], 2001: [1.68, -2.870833333, -2.050390625, 0.114, 0.119265625, -0.92], 2002: [1.19, -2.058333333, -1.4095019530000001, 0.133, 0.118828125, -0.89], 2003: [1.24, 0.583333333, -0.523841146, 0.096, 0.12702343800000002, 0.57], 2004: [1.08, 1.3075, -0.120159505, 0.127, 0.142832031, 3.31], 2005: [1.62, 0.08916666699999999, -0.350983073, 0.204, 0.161089844, 0.14], 2006: [2.23, -2.215833333, -0.705572917, 0.156, 0.174109375, -0.12], 2007: [1.63, -1.651666667, -0.576110026, 0.19699999999999998, 0.177796875, -0.76], 2008: [0.27, 0.34666666700000004, 0.08567057300000001, 0.203, 0.1738125, 1.3], 2009: [0.37, 1.2508333329999999, 0.6922135420000001, 0.105, 0.166960938, 2.36], 2010: [0.96, 3.05, 0.610465495, 0.215, 0.160128906, 1.43], 2011: [1.16, -0.1575, -0.092431641, 0.138, 0.153558594, 0.16], 2012: [3.26, -4.005833333, -0.629039714, 0.12300000000000001, 0.149871094, -2.41], 2013: [0.41, -0.224166667, -0.41643229200000004, 0.168, 0.154074219, 1.12], 2014: [0.52, 1.231666667, 0.280732422, 0.131, 0.167464844, 0.91], 2015: [2.38, 1.1675, 0.8624804690000001, 0.21, 0.185125, 4.63]}\n"
     ]
    }
   ],
   "source": [
    "X_dict = dict()\n",
    "\n",
    "for i in range(1961,2016):\n",
    "    X_dict[i] = build_features(i)\n",
    "    \n",
    "print(len(X_dict), X_dict)"
   ]
  },
  {
   "cell_type": "markdown",
   "metadata": {},
   "source": [
    "### Oh, 1964 is missing from the chickadee data.  Let's remove it from the X_dict"
   ]
  },
  {
   "cell_type": "code",
   "execution_count": 122,
   "metadata": {},
   "outputs": [
    {
     "name": "stdout",
     "output_type": "stream",
     "text": [
      "54 {1961: array([-0.15      ,  0.89083333, -0.04791341,  0.1       ,  0.08448828,\n",
      "        1.31      ]), 1962: array([-0.12      ,  0.02083333, -0.5397526 ,  0.093     ,  0.08441016,\n",
      "       -1.34      ]), 1963: array([ 0.24      , -2.92916667, -0.90830078,  0.04      ,  0.08855078,\n",
      "       -4.24      ]), 1965: array([-0.33      ,  0.70833333, -0.62742513,  0.117     ,  0.10585156,\n",
      "       -0.14      ]), 1966: array([-0.53      , -1.76416667, -0.16245443,  0.129     ,  0.10496094,\n",
      "       -2.48      ]), 1967: array([-0.26      ,  0.435     ,  0.45788086,  0.075     ,  0.09758594,\n",
      "       -0.34      ]), 1968: array([-0.7       ,  1.79583333,  1.06626953,  0.087     ,  0.09067187,\n",
      "        0.45      ]), 1969: array([-0.52      ,  2.50166667,  1.38129883,  0.092     ,  0.08689062,\n",
      "        0.69      ]), 1970: array([-0.41      ,  0.7425    ,  1.46689453,  0.087     ,  0.08487109,\n",
      "       -0.24      ]), 1971: array([-0.36      ,  0.60333333,  1.7450651 ,  0.072     ,  0.08425391,\n",
      "        0.39      ]), 1972: array([-0.65      ,  1.97916667,  2.39477539,  0.088     ,  0.08523828,\n",
      "        1.76      ]), 1973: array([0.27      , 4.8475    , 3.00868164, 0.091     , 0.08549219,\n",
      "       5.02      ]), 1974: array([0.24      , 3.47416667, 2.9914974 , 0.096     , 0.08242578,\n",
      "       0.68      ]), 1975: array([-0.52      ,  3.71833333,  2.20647135,  0.066     ,  0.07773437,\n",
      "        3.09      ]), 1976: array([-0.55      , -0.34833333,  1.17426107,  0.058     ,  0.07575781,\n",
      "       -3.63      ]), 1977: array([ 0.53      , -1.15083333,  0.57289388,  0.096     ,  0.07846094,\n",
      "        0.5       ]), 1978: array([-0.97      ,  0.91916667,  0.52508464,  0.07      ,  0.08566797,\n",
      "        0.2       ]), 1979: array([-1.14      ,  2.23      ,  0.64385091,  0.084     ,  0.09710937,\n",
      "        2.81      ]), 1980: array([ 0.37      , -0.39833333,  0.81782227,  0.126     ,  0.10977734,\n",
      "       -1.67      ]), 1981: array([ 1.1       , -0.755     ,  1.38746094,  0.131     ,  0.11710938,\n",
      "        0.02      ]), 1982: array([-0.67      ,  3.3725    ,  2.35296875,  0.127     ,  0.11525391,\n",
      "        3.92      ]), 1983: array([-0.14      ,  5.01083333,  3.05469401,  0.102     ,  0.10810547,\n",
      "        4.82      ]), 1984: array([-0.04      ,  3.9475    ,  2.9314974 ,  0.085     ,  0.10331641,\n",
      "        1.46      ]), 1985: array([-0.72      ,  0.96083333,  2.06860026,  0.098     ,  0.10350781,\n",
      "        0.03      ]), 1986: array([1.3       , 2.13583333, 0.86063151, 0.133     , 0.10416406,\n",
      "       1.44      ]), 1987: array([ 1.31      , -0.57      , -0.2961263 ,  0.095     ,  0.10209375,\n",
      "       -0.93      ]), 1988: array([ 0.61      , -3.51      , -0.94773763,  0.085     ,  0.10138672,\n",
      "       -4.04      ]), 1989: array([-0.18      , -0.85166667, -0.80581706,  0.087     ,  0.10569531,\n",
      "       -0.89      ]), 1990: array([ 1.49      ,  0.03083333, -0.04497721,  0.149     ,  0.11006641,\n",
      "        2.23      ]), 1991: array([1.14      , 1.15083333, 0.93129232, 0.124     , 0.10885937,\n",
      "       2.5       ]), 1992: array([0.58      , 1.185     , 1.82689779, 0.056     , 0.10701563,\n",
      "       1.32      ]), 1993: array([-0.76      ,  4.37      ,  2.45514648,  0.122     ,  0.11437109,\n",
      "        2.68      ]), 1994: array([0.85      , 2.13833333, 2.76329753, 0.114     , 0.13191797,\n",
      "       0.68      ]), 1995: array([0.63      , 2.79583333, 2.87972982, 0.169     , 0.15041797,\n",
      "       2.75      ]), 1996: array([-0.13      ,  2.78916667,  2.8372819 ,  0.203     ,  0.16114844,\n",
      "        3.76      ]), 1997: array([0.18      , 4.29583333, 2.34928711, 0.112     , 0.16267187,\n",
      "       1.92      ]), 1998: array([2.21      , 1.55333333, 1.15205729, 0.206     , 0.15637109,\n",
      "       3.95      ]), 1999: array([ 1.86      , -0.13833333, -0.47647461,  0.153     ,  0.14327734,\n",
      "       -1.47      ]), 2000: array([ 1.25      , -4.43583333, -1.7579362 ,  0.092     ,  0.12842969,\n",
      "       -1.72      ]), 2001: array([ 1.68      , -2.87083333, -2.05039062,  0.114     ,  0.11926563,\n",
      "       -0.92      ]), 2002: array([ 1.19      , -2.05833333, -1.40950195,  0.133     ,  0.11882813,\n",
      "       -0.89      ]), 2003: array([ 1.24      ,  0.58333333, -0.52384115,  0.096     ,  0.12702344,\n",
      "        0.57      ]), 2004: array([ 1.08      ,  1.3075    , -0.1201595 ,  0.127     ,  0.14283203,\n",
      "        3.31      ]), 2005: array([ 1.62      ,  0.08916667, -0.35098307,  0.204     ,  0.16108984,\n",
      "        0.14      ]), 2006: array([ 2.23      , -2.21583333, -0.70557292,  0.156     ,  0.17410938,\n",
      "       -0.12      ]), 2007: array([ 1.63      , -1.65166667, -0.57611003,  0.197     ,  0.17779687,\n",
      "       -0.76      ]), 2008: array([0.27      , 0.34666667, 0.08567057, 0.203     , 0.1738125 ,\n",
      "       1.3       ]), 2009: array([0.37      , 1.25083333, 0.69221354, 0.105     , 0.16696094,\n",
      "       2.36      ]), 2010: array([0.96      , 3.05      , 0.6104655 , 0.215     , 0.16012891,\n",
      "       1.43      ]), 2011: array([ 1.16      , -0.1575    , -0.09243164,  0.138     ,  0.15355859,\n",
      "        0.16      ]), 2012: array([ 3.26      , -4.00583333, -0.62903971,  0.123     ,  0.14987109,\n",
      "       -2.41      ]), 2013: array([ 0.41      , -0.22416667, -0.41643229,  0.168     ,  0.15407422,\n",
      "        1.12      ]), 2014: array([0.52      , 1.23166667, 0.28073242, 0.131     , 0.16746484,\n",
      "       0.91      ]), 2015: array([2.38      , 1.1675    , 0.86248047, 0.21      , 0.185125  ,\n",
      "       4.63      ])}\n"
     ]
    }
   ],
   "source": [
    "X_dict = dict()\n",
    "\n",
    "for i in range(1961,1964):\n",
    "    X_dict[i] = build_features(i)\n",
    "\n",
    "for i in range(1965,2016):\n",
    "    X_dict[i] = build_features(i)\n",
    "    \n",
    "print(len(X_dict), X_dict)"
   ]
  },
  {
   "cell_type": "code",
   "execution_count": 148,
   "metadata": {},
   "outputs": [
    {
     "name": "stdout",
     "output_type": "stream",
     "text": [
      "54 54\n"
     ]
    }
   ],
   "source": [
    "X = []\n",
    "for yr in X_dict.keys():\n",
    "    X.append(X_dict[yr])\n",
    "print(len(X), len(Y_chickadee))"
   ]
  },
  {
   "cell_type": "markdown",
   "metadata": {},
   "source": [
    "# Linear Regression\n",
    "\n",
    "Scatter plot shown below.  No cross validation attempted due to small sample - model is predicting on its own training set.  "
   ]
  },
  {
   "cell_type": "code",
   "execution_count": 160,
   "metadata": {},
   "outputs": [
    {
     "data": {
      "text/plain": [
       "<matplotlib.collections.PathCollection at 0x1a227f7208>"
      ]
     },
     "execution_count": 160,
     "metadata": {},
     "output_type": "execute_result"
    },
    {
     "data": {
      "image/png": "[encoded data removed]",
      "text/plain": [
       "<matplotlib.figure.Figure at 0x1a2213c5c0>"
      ]
     },
     "metadata": {},
     "output_type": "display_data"
    }
   ],
   "source": [
    "import sklearn\n",
    "model = sklearn.linear_model.LinearRegression()\n",
    "model.fit(X, Y_chickadee)\n",
    "y_pred = model.predict(X)\n",
    "plt.scatter(y_pred,Y_chickadee)"
   ]
  },
  {
   "cell_type": "code",
   "execution_count": null,
   "metadata": {},
   "outputs": [],
   "source": []
  },
  {
   "cell_type": "markdown",
   "metadata": {},
   "source": [
    "## Absolute error\n",
    "\n",
    "Mean error in the bird density is 1.67.  Typical values for the chickadee bird density observed were on the order of 10."
   ]
  },
  {
   "cell_type": "code",
   "execution_count": 166,
   "metadata": {},
   "outputs": [
    {
     "data": {
      "text/plain": [
       "1.6707883607943044"
      ]
     },
     "execution_count": 166,
     "metadata": {},
     "output_type": "execute_result"
    }
   ],
   "source": [
    "residuals = y_pred - Y_chickadee\n",
    "residuals = list(map(abs, residuals))\n",
    "error = np.mean(residuals)\n",
    "error"
   ]
  },
  {
   "cell_type": "markdown",
   "metadata": {},
   "source": [
    "## Coefficients analysis\n",
    "\n",
    "The smallest coefficient is for drought nine_year_average.  However, the data were not normalized so the magnitude of the coefficients is not telling.  We can use ridge or lasso regression to figure out which coefficients are needed."
   ]
  },
  {
   "cell_type": "code",
   "execution_count": 154,
   "metadata": {},
   "outputs": [
    {
     "data": {
      "text/plain": [
       "array([ 0.88727595,  0.12612395,  0.07036548, -9.53578597, 42.56498877,\n",
       "        0.2286899 ])"
      ]
     },
     "execution_count": 154,
     "metadata": {},
     "output_type": "execute_result"
    }
   ],
   "source": [
    "model.coef_"
   ]
  },
  {
   "cell_type": "markdown",
   "metadata": {},
   "source": [
    "# Lasso regression\n",
    "\n",
    "This would be better put to use if I decided to use the satellite temperature anomoly data (since it is highly correlated with earth's surface temperature)."
   ]
  },
  {
   "cell_type": "code",
   "execution_count": 167,
   "metadata": {},
   "outputs": [
    {
     "data": {
      "text/plain": [
       "<matplotlib.collections.PathCollection at 0x11e5be0f0>"
      ]
     },
     "execution_count": 167,
     "metadata": {},
     "output_type": "execute_result"
    },
    {
     "data": {
      "image/png": "[encoded data removed]",
      "text/plain": [
       "<matplotlib.figure.Figure at 0x11e5ea940>"
      ]
     },
     "metadata": {},
     "output_type": "display_data"
    }
   ],
   "source": [
    "model = sklearn.linear_model.Lasso()\n",
    "model.fit(X, Y_chickadee)\n",
    "y_pred = model.predict(X)\n",
    "plt.scatter(y_pred,Y_chickadee)"
   ]
  },
  {
   "cell_type": "markdown",
   "metadata": {},
   "source": [
    "## Lasso kept only the precipitation anomoly and the earth_surface_temperature.\n",
    "\n",
    "And it is not much worse in performace than the linear regression which kept all the features.  The absolute error for lasso is 2.14 v.s. 1.67 for linear regression.  \n",
    "\n",
    "Cross validation and tuning paramaters in a ridge regression model would likely give the best performance."
   ]
  },
  {
   "cell_type": "code",
   "execution_count": 157,
   "metadata": {},
   "outputs": [
    {
     "data": {
      "text/plain": [
       "array([ 0.25323592,  0.        , -0.        ,  0.        ,  0.        ,\n",
       "        0.18607781])"
      ]
     },
     "execution_count": 157,
     "metadata": {},
     "output_type": "execute_result"
    }
   ],
   "source": [
    "model.coef_"
   ]
  },
  {
   "cell_type": "code",
   "execution_count": 168,
   "metadata": {},
   "outputs": [
    {
     "data": {
      "text/plain": [
       "2.149264569180394"
      ]
     },
     "execution_count": 168,
     "metadata": {},
     "output_type": "execute_result"
    }
   ],
   "source": [
    "residuals = y_pred - Y_chickadee\n",
    "residuals = list(map(abs, residuals))\n",
    "error = np.mean(residuals)\n",
    "error"
   ]
  },
  {
   "cell_type": "code",
   "execution_count": null,
   "metadata": {},
   "outputs": [],
   "source": []
  }
 ],
 "metadata": {
  "kernelspec": {
   "display_name": "Python 3",
   "language": "python",
   "name": "python3"
  },
  "language_info": {
   "codemirror_mode": {
    "name": "ipython",
    "version": 3
   },
   "file_extension": ".py",
   "mimetype": "text/x-python",
   "name": "python",
   "nbconvert_exporter": "python",
   "pygments_lexer": "ipython3",
   "version": "3.6.4"
  }
 },
 "nbformat": 4,
 "nbformat_minor": 2
}
